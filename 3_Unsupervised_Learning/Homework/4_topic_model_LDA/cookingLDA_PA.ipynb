{
 "cells": [
  {
   "cell_type": "markdown",
   "metadata": {},
   "source": [
    "# Programming Assignment: \n",
    "## Готовим LDA по рецептам"
   ]
  },
  {
   "cell_type": "markdown",
   "metadata": {},
   "source": [
    "Как вы уже знаете, в тематическом моделировании делается предположение о том, что для определения тематики порядок слов в документе не важен; об этом гласит гипотеза «мешка слов». Сегодня мы будем работать с несколько нестандартной для тематического моделирования коллекцией, которую можно назвать «мешком ингредиентов», потому что на состоит из рецептов блюд разных кухонь. Тематические модели ищут слова, которые часто вместе встречаются в документах, и составляют из них темы. Мы попробуем применить эту идею к рецептам и найти кулинарные «темы». Эта коллекция хороша тем, что не требует предобработки. Кроме того, эта задача достаточно наглядно иллюстрирует принцип работы тематических моделей.\n",
    "\n",
    "Для выполнения заданий, помимо часто используемых в курсе библиотек, потребуются модули *json* и *gensim*. Первый входит в дистрибутив Anaconda, второй можно поставить командой \n",
    "\n",
    "*pip install gensim*\n",
    "\n",
    "Построение модели занимает некоторое время. На ноутбуке с процессором Intel Core i7 и тактовой частотой 2400 МГц на построение одной модели уходит менее 10 минут."
   ]
  },
  {
   "cell_type": "markdown",
   "metadata": {},
   "source": [
    "### Загрузка данных"
   ]
  },
  {
   "cell_type": "markdown",
   "metadata": {},
   "source": [
    "Коллекция дана в json-формате: для каждого рецепта известны его id, кухня (cuisine) и список ингредиентов, в него входящих. Загрузить данные можно с помощью модуля json (он входит в дистрибутив Anaconda):"
   ]
  },
  {
   "cell_type": "code",
   "execution_count": 1,
   "metadata": {},
   "outputs": [],
   "source": [
    "import json"
   ]
  },
  {
   "cell_type": "code",
   "execution_count": 2,
   "metadata": {},
   "outputs": [],
   "source": [
    "with open(\"recipes.json\") as f:\n",
    "    recipes = json.load(f)"
   ]
  },
  {
   "cell_type": "code",
   "execution_count": 3,
   "metadata": {},
   "outputs": [
    {
     "name": "stdout",
     "output_type": "stream",
     "text": [
      "{'id': 10259, 'cuisine': 'greek', 'ingredients': ['romaine lettuce', 'black olives', 'grape tomatoes', 'garlic', 'pepper', 'purple onion', 'seasoning', 'garbanzo beans', 'feta cheese crumbles']}\n"
     ]
    }
   ],
   "source": [
    "print(recipes[0])"
   ]
  },
  {
   "cell_type": "markdown",
   "metadata": {},
   "source": [
    "### Составление корпуса"
   ]
  },
  {
   "cell_type": "code",
   "execution_count": 4,
   "metadata": {},
   "outputs": [
    {
     "name": "stderr",
     "output_type": "stream",
     "text": [
      "Slow version of gensim.models.doc2vec is being used\n"
     ]
    }
   ],
   "source": [
    "# from scipy.special import logsumexp\n",
    "from gensim import corpora, models\n",
    "import numpy as np"
   ]
  },
  {
   "cell_type": "markdown",
   "metadata": {},
   "source": [
    "Наша коллекция небольшая, и целиком помещается в оперативную память. Gensim может работать с такими данными и не требует их сохранения на диск в специальном формате. Для этого коллекция должна быть представлена в виде списка списков, каждый внутренний список соответствует отдельному документу и состоит из его слов. Пример коллекции из двух документов: \n",
    "\n",
    "[[\"hello\", \"world\"], [\"programming\", \"in\", \"python\"]]\n",
    "\n",
    "Преобразуем наши данные в такой формат, а затем создадим объекты corpus и dictionary, с которыми будет работать модель."
   ]
  },
  {
   "cell_type": "code",
   "execution_count": 5,
   "metadata": {},
   "outputs": [],
   "source": [
    "texts = [recipe[\"ingredients\"] for recipe in recipes]\n",
    "dictionary = corpora.Dictionary(texts)   # составляем словарь\n",
    "corpus = [dictionary.doc2bow(text) for text in texts]  # составляем корпус документов"
   ]
  },
  {
   "cell_type": "code",
   "execution_count": 6,
   "metadata": {},
   "outputs": [
    {
     "name": "stdout",
     "output_type": "stream",
     "text": [
      "['romaine lettuce', 'black olives', 'grape tomatoes', 'garlic', 'pepper', 'purple onion', 'seasoning', 'garbanzo beans', 'feta cheese crumbles']\n",
      "[(0, 1), (1, 1), (2, 1), (3, 1), (4, 1), (5, 1), (6, 1), (7, 1), (8, 1)]\n"
     ]
    }
   ],
   "source": [
    "print(texts[0])\n",
    "print(corpus[0])"
   ]
  },
  {
   "cell_type": "markdown",
   "metadata": {},
   "source": [
    "У объекта dictionary есть полезная переменная dictionary.token2id, позволяющая находить соответствие между ингредиентами и их индексами."
   ]
  },
  {
   "cell_type": "markdown",
   "metadata": {},
   "source": [
    "### Обучение модели\n",
    "Вам может понадобиться [документация](https://radimrehurek.com/gensim/models/ldamodel.html) LDA в gensim."
   ]
  },
  {
   "cell_type": "markdown",
   "metadata": {},
   "source": [
    "__Задание 1.__ Обучите модель LDA с 40 темами, установив количество проходов по коллекции 5 и оставив остальные параметры по умолчанию. \n",
    "\n",
    "\n",
    "Затем вызовите метод модели *show_topics*, указав количество тем 40 и количество токенов 10, и сохраните результат (топы ингредиентов в темах) в отдельную переменную. Если при вызове метода *show_topics* указать параметр *formatted=True*, то топы ингредиентов будет удобно выводить на печать, если *formatted=False*, будет удобно работать со списком программно. Выведите топы на печать, рассмотрите темы, а затем ответьте на вопрос:\n",
    "\n",
    "Сколько раз ингредиенты \"salt\", \"sugar\", \"water\", \"mushrooms\", \"chicken\", \"eggs\" встретились среди топов-10 всех 40 тем? При ответе __не нужно__ учитывать составные ингредиенты, например, \"hot water\".\n",
    "\n",
    "Передайте 6 чисел в функцию save_answers1 и загрузите сгенерированный файл в форму.\n",
    "\n",
    "У gensim нет возможности фиксировать случайное приближение через параметры метода, но библиотека использует numpy для инициализации матриц. Поэтому, по утверждению автора библиотеки, фиксировать случайное приближение нужно командой, которая написана в следующей ячейке. __Перед строкой кода с построением модели обязательно вставляйте указанную строку фиксации random.seed.__"
   ]
  },
  {
   "cell_type": "code",
   "execution_count": 7,
   "metadata": {},
   "outputs": [],
   "source": [
    "np.random.seed(76543)\n",
    "# здесь код для построения модели:\n",
    "lda = models.ldamodel.LdaModel(corpus, num_topics=40, passes=5, id2word=dictionary)"
   ]
  },
  {
   "cell_type": "code",
   "execution_count": 8,
   "metadata": {},
   "outputs": [],
   "source": [
    "top = lda.show_topics(num_topics=40, num_words=10, formatted=False)"
   ]
  },
  {
   "cell_type": "code",
   "execution_count": 9,
   "metadata": {},
   "outputs": [
    {
     "data": {
      "text/plain": [
       "[(0,\n",
       "  '0.052*\"peanut oil\" + 0.036*\"rice vinegar\" + 0.035*\"soy sauce\" + 0.033*\"green onions\" + 0.033*\"garlic cloves\" + 0.033*\"peeled fresh ginger\" + 0.032*\"sesame seeds\" + 0.032*\"toasted sesame oil\" + 0.031*\"vegetable oil\" + 0.028*\"low sodium soy sauce\"'),\n",
       " (1,\n",
       "  '0.094*\"large eggs\" + 0.077*\"sugar\" + 0.069*\"salt\" + 0.065*\"all-purpose flour\" + 0.050*\"vanilla extract\" + 0.043*\"unsalted butter\" + 0.036*\"butter\" + 0.027*\"large egg yolks\" + 0.026*\"large egg whites\" + 0.024*\"powdered sugar\"'),\n",
       " (2,\n",
       "  '0.086*\"cooked rice\" + 0.079*\"low salt chicken broth\" + 0.073*\"frozen peas\" + 0.064*\"fresh ginger root\" + 0.056*\"finely chopped onion\" + 0.042*\"vegetable stock\" + 0.030*\"apples\" + 0.030*\"beef stock\" + 0.025*\"carrots\" + 0.023*\"curry paste\"'),\n",
       " (3,\n",
       "  '0.079*\"salt\" + 0.067*\"oil\" + 0.053*\"onions\" + 0.050*\"green chilies\" + 0.038*\"garam masala\" + 0.036*\"chili powder\" + 0.034*\"coriander\" + 0.033*\"tomatoes\" + 0.031*\"ginger\" + 0.029*\"cilantro leaves\"'),\n",
       " (4,\n",
       "  '0.075*\"celery\" + 0.065*\"onions\" + 0.060*\"chicken stock\" + 0.057*\"carrots\" + 0.043*\"cayenne\" + 0.041*\"salt\" + 0.039*\"garlic\" + 0.038*\"cabbage\" + 0.031*\"ground black pepper\" + 0.027*\"water\"'),\n",
       " (5,\n",
       "  '0.120*\"extra-virgin olive oil\" + 0.083*\"fresh lemon juice\" + 0.053*\"flat leaf parsley\" + 0.052*\"garlic cloves\" + 0.039*\"ground black pepper\" + 0.037*\"capers\" + 0.036*\"shallots\" + 0.034*\"salt\" + 0.031*\"dijon mustard\" + 0.028*\"kosher salt\"'),\n",
       " (6,\n",
       "  '0.084*\"parmigiano reggiano cheese\" + 0.039*\"bread crumb fresh\" + 0.038*\"pancetta\" + 0.029*\"english cucumber\" + 0.027*\"seasoning salt\" + 0.026*\"daikon\" + 0.022*\"dried porcini mushrooms\" + 0.021*\"vidalia onion\" + 0.021*\"carrots\" + 0.021*\"nori\"'),\n",
       " (7,\n",
       "  '0.106*\"light brown sugar\" + 0.073*\"toasted sesame seeds\" + 0.068*\"mango\" + 0.063*\"pork\" + 0.039*\"wonton wrappers\" + 0.038*\"pure vanilla extract\" + 0.037*\"rice flour\" + 0.036*\"crème fraîche\" + 0.034*\"pork shoulder\" + 0.031*\"light corn syrup\"'),\n",
       " (8,\n",
       "  '0.087*\"white vinegar\" + 0.071*\"white onion\" + 0.049*\"boiling water\" + 0.048*\"water\" + 0.040*\"orange juice\" + 0.037*\"white rice\" + 0.031*\"mint leaves\" + 0.028*\"queso fresco\" + 0.024*\"ancho chile pepper\" + 0.024*\"sugar\"'),\n",
       " (9,\n",
       "  '0.091*\"raisins\" + 0.063*\"melted butter\" + 0.045*\"honey\" + 0.044*\"whole milk\" + 0.042*\"whipping cream\" + 0.040*\"hot red pepper flakes\" + 0.036*\"sugar\" + 0.036*\"collard greens\" + 0.035*\"bacon slices\" + 0.035*\"vanilla beans\"'),\n",
       " (10,\n",
       "  '0.078*\"freshly ground pepper\" + 0.049*\"coarse salt\" + 0.046*\"garlic cloves\" + 0.036*\"bacon\" + 0.034*\"olive oil\" + 0.033*\"extra-virgin olive oil\" + 0.031*\"ground pepper\" + 0.030*\"onions\" + 0.027*\"leeks\" + 0.025*\"salt\"'),\n",
       " (11,\n",
       "  '0.091*\"olive oil\" + 0.074*\"grated parmesan cheese\" + 0.061*\"dry white wine\" + 0.050*\"butter\" + 0.046*\"salt\" + 0.039*\"ground black pepper\" + 0.037*\"fresh parsley\" + 0.035*\"garlic\" + 0.024*\"onions\" + 0.024*\"white wine\"'),\n",
       " (12,\n",
       "  '0.097*\"shredded mozzarella cheese\" + 0.080*\"vegetable broth\" + 0.054*\"russet potatoes\" + 0.051*\"baby spinach\" + 0.045*\"lasagna noodles\" + 0.045*\"salt and ground black pepper\" + 0.042*\"lean ground beef\" + 0.041*\"yukon gold potatoes\" + 0.028*\"cremini mushrooms\" + 0.027*\"onions\"'),\n",
       " (13,\n",
       "  '0.076*\"onions\" + 0.065*\"green bell pepper\" + 0.049*\"red bell pepper\" + 0.036*\"salt\" + 0.029*\"olive oil\" + 0.029*\"zucchini\" + 0.026*\"garlic cloves\" + 0.026*\"water\" + 0.026*\"garlic\" + 0.026*\"chicken broth\"'),\n",
       " (14,\n",
       "  '0.119*\"fresh cilantro\" + 0.068*\"oregano\" + 0.053*\"red pepper\" + 0.053*\"bell pepper\" + 0.052*\"smoked paprika\" + 0.040*\"garlic\" + 0.037*\"cumin\" + 0.031*\"olive oil\" + 0.030*\"brown rice\" + 0.028*\"green pepper\"'),\n",
       " (15,\n",
       "  '0.185*\"heavy cream\" + 0.093*\"unsalted butter\" + 0.060*\"cracked black pepper\" + 0.051*\"half & half\" + 0.039*\"kosher salt\" + 0.037*\"butter\" + 0.033*\"ground white pepper\" + 0.031*\"grits\" + 0.030*\"almonds\" + 0.026*\"heavy whipping cream\"'),\n",
       " (16,\n",
       "  '0.065*\"jalapeno chilies\" + 0.048*\"salt\" + 0.047*\"chopped cilantro fresh\" + 0.045*\"ground cumin\" + 0.044*\"avocado\" + 0.036*\"black beans\" + 0.030*\"olive oil\" + 0.030*\"chili powder\" + 0.029*\"garlic\" + 0.028*\"corn tortillas\"'),\n",
       " (17,\n",
       "  '0.067*\"coconut milk\" + 0.056*\"lime\" + 0.046*\"fish sauce\" + 0.045*\"lime juice\" + 0.042*\"chopped cilantro\" + 0.038*\"garlic\" + 0.036*\"cilantro\" + 0.031*\"chicken thighs\" + 0.029*\"chiles\" + 0.028*\"lemongrass\"'),\n",
       " (18,\n",
       "  '0.152*\"paprika\" + 0.047*\"shrimp\" + 0.046*\"bread crumbs\" + 0.037*\"butter\" + 0.036*\"salt\" + 0.033*\"chives\" + 0.031*\"cream\" + 0.029*\"eggs\" + 0.027*\"hot pepper sauce\" + 0.025*\"chicken breast halves\"'),\n",
       " (19,\n",
       "  '0.076*\"clove\" + 0.069*\"black peppercorns\" + 0.057*\"coriander seeds\" + 0.048*\"bay leaves\" + 0.046*\"water\" + 0.046*\"sweet potatoes\" + 0.038*\"ghee\" + 0.036*\"fennel seeds\" + 0.029*\"bay leaf\" + 0.026*\"star anise\"'),\n",
       " (20,\n",
       "  '0.101*\"sauce\" + 0.084*\"boneless chicken skinless thigh\" + 0.076*\"tortilla chips\" + 0.055*\"noodles\" + 0.052*\"cheddar cheese\" + 0.045*\"brandy\" + 0.043*\"self rising flour\" + 0.040*\"goat cheese\" + 0.039*\"ground turkey\" + 0.029*\"slivered almonds\"'),\n",
       " (21,\n",
       "  '0.112*\"all-purpose flour\" + 0.110*\"salt\" + 0.107*\"eggs\" + 0.098*\"milk\" + 0.073*\"butter\" + 0.059*\"baking powder\" + 0.051*\"flour\" + 0.041*\"sugar\" + 0.038*\"buttermilk\" + 0.034*\"baking soda\"'),\n",
       " (22,\n",
       "  '0.066*\"chile pepper\" + 0.063*\"low sodium chicken broth\" + 0.041*\"reduced sodium soy sauce\" + 0.041*\"reduced sodium chicken broth\" + 0.039*\"radishes\" + 0.034*\"frozen corn\" + 0.031*\"sharp cheddar cheese\" + 0.031*\"panko breadcrumbs\" + 0.030*\"italian sausage\" + 0.026*\"extra firm tofu\"'),\n",
       " (23,\n",
       "  '0.154*\"white sugar\" + 0.053*\"cinnamon\" + 0.052*\"nutmeg\" + 0.038*\"vegetables\" + 0.034*\"pinto beans\" + 0.028*\"allspice\" + 0.026*\"roma tomatoes\" + 0.025*\"cornflour\" + 0.023*\"catfish fillets\" + 0.021*\"cottage cheese\"'),\n",
       " (24,\n",
       "  '0.058*\"ground cumin\" + 0.051*\"salt\" + 0.048*\"onions\" + 0.044*\"ground coriander\" + 0.035*\"ground turmeric\" + 0.033*\"garlic\" + 0.032*\"vegetable oil\" + 0.029*\"tumeric\" + 0.029*\"water\" + 0.027*\"fresh ginger\"'),\n",
       " (25,\n",
       "  '0.061*\"egg yolks\" + 0.055*\"granulated sugar\" + 0.054*\"sugar\" + 0.045*\"confectioners sugar\" + 0.043*\"unsalted butter\" + 0.038*\"cold water\" + 0.037*\"salt\" + 0.036*\"egg whites\" + 0.036*\"vanilla extract\" + 0.035*\"all-purpose flour\"'),\n",
       " (26,\n",
       "  '0.132*\"ground cinnamon\" + 0.067*\"ground nutmeg\" + 0.066*\"ground cloves\" + 0.055*\"cider vinegar\" + 0.052*\"ground allspice\" + 0.045*\"juice\" + 0.042*\"plain yogurt\" + 0.038*\"ground cardamom\" + 0.027*\"poblano chiles\" + 0.024*\"grated orange\"'),\n",
       " (27,\n",
       "  '0.075*\"sweet onion\" + 0.060*\"sliced mushrooms\" + 0.036*\"sliced black olives\" + 0.035*\"salmon fillets\" + 0.035*\"cream cheese, soften\" + 0.032*\"bananas\" + 0.030*\"dashi\" + 0.027*\"fresh chives\" + 0.027*\"mirin\" + 0.023*\"sake\"'),\n",
       " (28,\n",
       "  '0.065*\"fish sauce\" + 0.062*\"fresh lime juice\" + 0.043*\"sugar\" + 0.030*\"shallots\" + 0.027*\"fresh mint\" + 0.023*\"water\" + 0.022*\"cilantro leaves\" + 0.022*\"vegetable oil\" + 0.021*\"lime wedges\" + 0.021*\"garlic cloves\"'),\n",
       " (29,\n",
       "  '0.082*\"salt\" + 0.080*\"cooking spray\" + 0.079*\"garlic cloves\" + 0.071*\"chopped onion\" + 0.055*\"olive oil\" + 0.035*\"black pepper\" + 0.035*\"ground black pepper\" + 0.033*\"ground red pepper\" + 0.032*\"water\" + 0.032*\"fat free less sodium chicken broth\"'),\n",
       " (30,\n",
       "  '0.103*\"sour cream\" + 0.070*\"shredded cheddar cheese\" + 0.061*\"flour tortillas\" + 0.053*\"salsa\" + 0.042*\"ground beef\" + 0.037*\"green onions\" + 0.037*\"cream cheese\" + 0.030*\"shredded Monterey Jack cheese\" + 0.027*\"cooked chicken\" + 0.025*\"green chile\"'),\n",
       " (31,\n",
       "  '0.190*\"garlic powder\" + 0.101*\"cayenne pepper\" + 0.071*\"onion powder\" + 0.038*\"hot water\" + 0.035*\"ground black pepper\" + 0.034*\"black pepper\" + 0.029*\"chili powder\" + 0.027*\"dried oregano\" + 0.025*\"salt\" + 0.025*\"kosher salt\"'),\n",
       " (32,\n",
       "  '0.095*\"warm water\" + 0.063*\"active dry yeast\" + 0.063*\"sugar\" + 0.053*\"orange\" + 0.037*\"water\" + 0.035*\"salt\" + 0.032*\"bread flour\" + 0.026*\"semisweet chocolate\" + 0.025*\"plain flour\" + 0.021*\"fontina cheese\"'),\n",
       " (33,\n",
       "  '0.216*\"pepper\" + 0.149*\"salt\" + 0.086*\"onions\" + 0.056*\"garlic\" + 0.042*\"water\" + 0.040*\"potatoes\" + 0.029*\"olive oil\" + 0.022*\"chicken\" + 0.019*\"tomatoes\" + 0.019*\"rice\"'),\n",
       " (34,\n",
       "  '0.149*\"lemon\" + 0.098*\"lemon juice\" + 0.056*\"worcestershire sauce\" + 0.053*\"mayonaise\" + 0.041*\"ketchup\" + 0.033*\"hot sauce\" + 0.030*\"apple cider vinegar\" + 0.024*\"ground black pepper\" + 0.019*\"bread\" + 0.018*\"olive oil\"'),\n",
       " (35,\n",
       "  '0.096*\"soy sauce\" + 0.052*\"sesame oil\" + 0.047*\"garlic\" + 0.047*\"corn starch\" + 0.041*\"sugar\" + 0.033*\"green onions\" + 0.032*\"scallions\" + 0.032*\"water\" + 0.030*\"ginger\" + 0.028*\"salt\"'),\n",
       " (36,\n",
       "  '0.086*\"parsley\" + 0.083*\"chopped parsley\" + 0.066*\"long grain white rice\" + 0.055*\"fresh orange juice\" + 0.052*\"beer\" + 0.035*\"ground lamb\" + 0.031*\"ricotta\" + 0.021*\"squid\" + 0.019*\"chipotle peppers\" + 0.019*\"fresh pineapple\"'),\n",
       " (37,\n",
       "  '0.079*\"purple onion\" + 0.056*\"olive oil\" + 0.050*\"extra-virgin olive oil\" + 0.047*\"salt\" + 0.046*\"red wine vinegar\" + 0.044*\"plum tomatoes\" + 0.040*\"garlic cloves\" + 0.037*\"tomatoes\" + 0.027*\"fresh basil\" + 0.027*\"cucumber\"'),\n",
       " (38,\n",
       "  '0.059*\"olive oil\" + 0.044*\"salt\" + 0.042*\"dried oregano\" + 0.041*\"grated parmesan cheese\" + 0.036*\"garlic\" + 0.033*\"dried basil\" + 0.030*\"balsamic vinegar\" + 0.028*\"mozzarella cheese\" + 0.025*\"tomato sauce\" + 0.022*\"fresh basil\"'),\n",
       " (39,\n",
       "  '0.108*\"red pepper flakes\" + 0.062*\"diced onions\" + 0.056*\"garlic salt\" + 0.051*\"vegetable oil cooking spray\" + 0.043*\"pasta\" + 0.041*\"stewed tomatoes\" + 0.035*\"boneless chicken breast\" + 0.033*\"garbanzo beans\" + 0.031*\"sweet paprika\" + 0.030*\"chicken wings\"')]"
      ]
     },
     "execution_count": 9,
     "metadata": {},
     "output_type": "execute_result"
    }
   ],
   "source": [
    "lda.show_topics(num_topics=40, num_words=10, formatted=True)"
   ]
  },
  {
   "cell_type": "code",
   "execution_count": 10,
   "metadata": {},
   "outputs": [],
   "source": [
    "from collections import Counter\n",
    "\n",
    "ingridients = []\n",
    "counter = Counter()\n",
    "for topic in top:\n",
    "    for name, _ in topic[1]:\n",
    "        ingridients.append(name)\n",
    "ingridients_cnt = Counter(ingridients)\n"
   ]
  },
  {
   "cell_type": "code",
   "execution_count": 11,
   "metadata": {},
   "outputs": [],
   "source": [
    "def save_answers1(c_salt, c_sugar, c_water, c_mushrooms, c_chicken, c_eggs):\n",
    "    with open(\"cooking_LDA_pa_task1.txt\", \"w\") as fout:\n",
    "        fout.write(\" \".join([str(el) for el in [c_salt, c_sugar, c_water, c_mushrooms, c_chicken, c_eggs]]))"
   ]
  },
  {
   "cell_type": "code",
   "execution_count": 12,
   "metadata": {},
   "outputs": [],
   "source": [
    "answer1 = [ingridients_cnt[x] for x in [\"salt\", \"sugar\", \"water\", \"mushrooms\", \"chicken\", \"eggs\"]]\n",
    "save_answers1(*answer1)"
   ]
  },
  {
   "cell_type": "markdown",
   "metadata": {},
   "source": [
    "### Фильтрация словаря\n",
    "В топах тем гораздо чаще встречаются первые три рассмотренных ингредиента, чем последние три. При этом наличие в рецепте курицы, яиц и грибов яснее дает понять, что мы будем готовить, чем наличие соли, сахара и воды. Таким образом, даже в рецептах есть слова, часто встречающиеся в текстах и не несущие смысловой нагрузки, и поэтому их не желательно видеть в темах. Наиболее простой прием борьбы с такими фоновыми элементами — фильтрация словаря по частоте. Обычно словарь фильтруют с двух сторон: убирают очень редкие слова (в целях экономии памяти) и очень частые слова (в целях повышения интерпретируемости тем). Мы уберем только частые слова."
   ]
  },
  {
   "cell_type": "code",
   "execution_count": 13,
   "metadata": {},
   "outputs": [],
   "source": [
    "import copy\n",
    "dictionary2 = copy.deepcopy(dictionary)"
   ]
  },
  {
   "cell_type": "markdown",
   "metadata": {},
   "source": [
    "__Задание 2.__ У объекта dictionary2 есть переменная *dfs* — это словарь, ключами которого являются id токена, а элементами — число раз, сколько слово встретилось во всей коллекции. Сохраните в отдельный список ингредиенты, которые встретились в коллекции больше 4000 раз. Вызовите метод словаря *filter_tokens*, подав в качестве первого аргумента полученный список популярных ингредиентов. Вычислите две величины: dict_size_before и dict_size_after — размер словаря до и после фильтрации.\n",
    "\n",
    "Затем, используя новый словарь, создайте новый корпус документов, corpus2, по аналогии с тем, как это сделано в начале ноутбука. Вычислите две величины: corpus_size_before и corpus_size_after — суммарное количество ингредиентов в корпусе (для каждого документа вычислите число различных ингредиентов в нем и просуммируйте по всем документам) до и после фильтрации.\n",
    "\n",
    "Передайте величины dict_size_before, dict_size_after, corpus_size_before, corpus_size_after в функцию save_answers2 и загрузите сгенерированный файл в форму."
   ]
  },
  {
   "cell_type": "code",
   "execution_count": 14,
   "metadata": {},
   "outputs": [],
   "source": [
    "freq_words_id = [ing for ing, cnt in dictionary2.dfs.items() if cnt > 4000]"
   ]
  },
  {
   "cell_type": "code",
   "execution_count": 15,
   "metadata": {},
   "outputs": [],
   "source": [
    "dictionary2.filter_tokens(freq_words_id)"
   ]
  },
  {
   "cell_type": "code",
   "execution_count": 16,
   "metadata": {},
   "outputs": [],
   "source": [
    "dict_size_before = len(dictionary)\n",
    "dict_size_after = len(dictionary2)"
   ]
  },
  {
   "cell_type": "code",
   "execution_count": 17,
   "metadata": {},
   "outputs": [],
   "source": [
    "new_corpus = [dictionary2.doc2bow(text) for text in texts]  # составляем корпус документов"
   ]
  },
  {
   "cell_type": "code",
   "execution_count": 18,
   "metadata": {},
   "outputs": [
    {
     "name": "stdout",
     "output_type": "stream",
     "text": [
      "Corpus size before: 428249\n",
      "Corpus size after:  343665\n"
     ]
    }
   ],
   "source": [
    "corpus_size_before = sum([len(doc) for doc in corpus])\n",
    "corpus_size_after = sum([len(doc) for doc in new_corpus])\n",
    "print('Corpus size before: {}'.format(corpus_size_before))\n",
    "print('Corpus size after:  {}'.format(corpus_size_after))"
   ]
  },
  {
   "cell_type": "code",
   "execution_count": 19,
   "metadata": {},
   "outputs": [],
   "source": [
    "def save_answers2(dict_size_before, dict_size_after, corpus_size_before, corpus_size_after):\n",
    "    with open(\"cooking_LDA_pa_task2.txt\", \"w\") as fout:\n",
    "        fout.write(\" \".join([str(el) for el in [dict_size_before, dict_size_after, corpus_size_before, corpus_size_after]]))"
   ]
  },
  {
   "cell_type": "code",
   "execution_count": 20,
   "metadata": {},
   "outputs": [],
   "source": [
    "save_answers2(dict_size_before, dict_size_after, corpus_size_before, corpus_size_after)"
   ]
  },
  {
   "cell_type": "markdown",
   "metadata": {},
   "source": [
    "### Сравнение когерентностей\n",
    "__Задание 3.__ Постройте еще одну модель по корпусу corpus2 и словарю dictionary2, остальные параметры оставьте такими же, как при первом построении модели. Сохраните новую модель в другую переменную (не перезаписывайте предыдущую модель). Не забудьте про фиксирование seed!\n",
    "\n",
    "Затем воспользуйтесь методом *top_topics* модели, чтобы вычислить ее когерентность. Передайте в качестве аргумента соответствующий модели корпус. Метод вернет список кортежей (топ токенов, когерентность), отсортированных по убыванию последней. Вычислите среднюю по всем темам когерентность для каждой из двух моделей и передайте в функцию save_answers3. "
   ]
  },
  {
   "cell_type": "code",
   "execution_count": 21,
   "metadata": {},
   "outputs": [],
   "source": [
    "np.random.seed(76543)\n",
    "lda2 = models.ldamodel.LdaModel(new_corpus, num_topics=40, passes=5, id2word=dictionary2)"
   ]
  },
  {
   "cell_type": "code",
   "execution_count": 22,
   "metadata": {},
   "outputs": [],
   "source": [
    "def get_coherence(model, corpus):\n",
    "    return np.mean([i[1] for i in model.top_topics(corpus)])"
   ]
  },
  {
   "cell_type": "code",
   "execution_count": 23,
   "metadata": {},
   "outputs": [],
   "source": [
    "coherence = get_coherence(lda, corpus)\n",
    "coherence2 = get_coherence(lda2, new_corpus)"
   ]
  },
  {
   "cell_type": "code",
   "execution_count": 24,
   "metadata": {},
   "outputs": [
    {
     "name": "stdout",
     "output_type": "stream",
     "text": [
      "-703.2019367755069 -747.6959617371538\n"
     ]
    }
   ],
   "source": [
    "print(coherence, coherence2)"
   ]
  },
  {
   "cell_type": "code",
   "execution_count": 25,
   "metadata": {},
   "outputs": [],
   "source": [
    "def save_answers3(coherence, coherence2):\n",
    "    with open(\"cooking_LDA_pa_task3.txt\", \"w\") as fout:\n",
    "        fout.write(\" \".join([\"%3f\"%el for el in [coherence, coherence2]]))"
   ]
  },
  {
   "cell_type": "code",
   "execution_count": 50,
   "metadata": {},
   "outputs": [],
   "source": [
    "save_answers3(coherence, coherence2)"
   ]
  },
  {
   "cell_type": "markdown",
   "metadata": {},
   "source": [
    "Считается, что когерентность хорошо соотносится с человеческими оценками интерпретируемости тем. Поэтому на больших текстовых коллекциях когерентность обычно повышается, если убрать фоновую лексику. Однако в нашем случае этого не произошло. "
   ]
  },
  {
   "cell_type": "markdown",
   "metadata": {},
   "source": [
    "### Изучение влияния гиперпараметра alpha"
   ]
  },
  {
   "cell_type": "markdown",
   "metadata": {},
   "source": [
    "В этом разделе мы будем работать со второй моделью, то есть той, которая построена по сокращенному корпусу. \n",
    "\n",
    "Пока что мы посмотрели только на матрицу темы-слова, теперь давайте посмотрим на матрицу темы-документы. Выведите темы для нулевого (или любого другого) документа из корпуса, воспользовавшись методом *get_document_topics* второй модели:"
   ]
  },
  {
   "cell_type": "code",
   "execution_count": 28,
   "metadata": {},
   "outputs": [
    {
     "data": {
      "text/plain": [
       "[(17, 0.128125), (20, 0.12812499999999996), (31, 0.6281249999999858)]"
      ]
     },
     "execution_count": 28,
     "metadata": {},
     "output_type": "execute_result"
    }
   ],
   "source": [
    "lda2.get_document_topics(new_corpus[0])"
   ]
  },
  {
   "cell_type": "markdown",
   "metadata": {},
   "source": [
    "Также выведите содержимое переменной *.alpha* второй модели:"
   ]
  },
  {
   "cell_type": "code",
   "execution_count": 61,
   "metadata": {},
   "outputs": [
    {
     "data": {
      "text/plain": [
       "array([0.025, 0.025, 0.025, 0.025, 0.025, 0.025, 0.025, 0.025, 0.025,\n",
       "       0.025, 0.025, 0.025, 0.025, 0.025, 0.025, 0.025, 0.025, 0.025,\n",
       "       0.025, 0.025, 0.025, 0.025, 0.025, 0.025, 0.025, 0.025, 0.025,\n",
       "       0.025, 0.025, 0.025, 0.025, 0.025, 0.025, 0.025, 0.025, 0.025,\n",
       "       0.025, 0.025, 0.025, 0.025])"
      ]
     },
     "execution_count": 61,
     "metadata": {},
     "output_type": "execute_result"
    }
   ],
   "source": [
    "lda.alpha"
   ]
  },
  {
   "cell_type": "markdown",
   "metadata": {},
   "source": [
    "У вас должно получиться, что документ характеризуется небольшим числом тем. Попробуем поменять гиперпараметр alpha, задающий априорное распределение Дирихле для распределений тем в документах."
   ]
  },
  {
   "cell_type": "markdown",
   "metadata": {},
   "source": [
    "__Задание 4.__ Обучите третью модель: используйте сокращенный корпус (corpus2 и dictionary2) и установите параметр __alpha=1__, passes=5. Не забудьте про фиксацию seed! Выведите темы новой модели для нулевого документа; должно получиться, что распределение над множеством тем практически равномерное. Чтобы убедиться в том, что во второй модели документы описываются гораздо более разреженными распределениями, чем в третьей, посчитайте суммарное количество элементов, __превосходящих 0.01__, в матрицах темы-документы обеих моделей. Другими словами, запросите темы  модели для каждого документа с параметром *minimum_probability=0.01* и просуммируйте число элементов в получаемых массивах. Передайте две суммы (сначала для модели с alpha по умолчанию, затем для модели в alpha=1) в функцию save_answers4."
   ]
  },
  {
   "cell_type": "code",
   "execution_count": 64,
   "metadata": {},
   "outputs": [],
   "source": [
    "np.random.seed(76543)\n",
    "lda3 = models.LdaModel(corpus=new_corpus, num_topics=40, passes=5, alpha=1, id2word=dictionary2)"
   ]
  },
  {
   "cell_type": "code",
   "execution_count": 31,
   "metadata": {},
   "outputs": [
    {
     "data": {
      "text/plain": [
       "[(9, 0.018801346750671178),\n",
       " (29, 0.01542291815722669),\n",
       " (30, 0.029126284133565463),\n",
       " (72, 0.010123176728735063),\n",
       " (74, 0.018841295635516016),\n",
       " (85, 0.010801778960257856),\n",
       " (90, 0.019099728280308603)]"
      ]
     },
     "execution_count": 31,
     "metadata": {},
     "output_type": "execute_result"
    }
   ],
   "source": [
    "lda3.get_document_topics(new_corpus[0])"
   ]
  },
  {
   "cell_type": "code",
   "execution_count": 65,
   "metadata": {},
   "outputs": [],
   "source": [
    "count_model2 = 0\n",
    "count_model3 = 0\n",
    "lda2.minimum_probability = 0.01\n",
    "lda3.minimum_probability = 0.01\n",
    "for doc in new_corpus:\n",
    "    count_model2 += len(lda2.get_document_topics(doc, minimum_probability=0.01))\n",
    "    count_model3 += len(lda3.get_document_topics(doc, minimum_probability=0.01))"
   ]
  },
  {
   "cell_type": "code",
   "execution_count": 66,
   "metadata": {},
   "outputs": [
    {
     "name": "stdout",
     "output_type": "stream",
     "text": [
      "200764\n",
      "1590960\n"
     ]
    }
   ],
   "source": [
    "print(count_model2)\n",
    "print(count_model3)"
   ]
  },
  {
   "cell_type": "code",
   "execution_count": 67,
   "metadata": {},
   "outputs": [],
   "source": [
    "def save_answers4(count_model2, count_model3):\n",
    "    with open(\"cooking_LDA_pa_task4.txt\", \"w\") as fout:\n",
    "        fout.write(\" \".join([str(el) for el in [count_model2, count_model3]]))"
   ]
  },
  {
   "cell_type": "code",
   "execution_count": 68,
   "metadata": {},
   "outputs": [],
   "source": [
    "save_answers4(count_model2, count_model3)"
   ]
  },
  {
   "cell_type": "code",
   "execution_count": 52,
   "metadata": {},
   "outputs": [
    {
     "name": "stdout",
     "output_type": "stream",
     "text": [
      "200741 442561"
     ]
    }
   ],
   "source": [
    "!cat cooking_LDA_pa_task4.txt"
   ]
  },
  {
   "cell_type": "markdown",
   "metadata": {},
   "source": [
    "Таким образом, гиперпараметр __alpha__ влияет на разреженность распределений тем в документах. Аналогично гиперпараметр __eta__ влияет на разреженность распределений слов в темах."
   ]
  },
  {
   "cell_type": "markdown",
   "metadata": {},
   "source": [
    "### LDA как способ понижения размерности\n",
    "Иногда, распределения над темами, найденные с помощью LDA, добавляют в матрицу объекты-признаки как дополнительные, семантические, признаки, и это может улучшить качество решения задачи. Для простоты давайте просто обучим классификатор рецептов на кухни на признаках, полученных из LDA, и измерим точность (accuracy).\n",
    "\n",
    "__Задание 5.__ Используйте модель, построенную по сокращенной выборке с alpha по умолчанию (вторую модель). Составьте матрицу $\\Theta = p(t|d)$ вероятностей тем в документах; вы можете использовать тот же метод get_document_topics, а также вектор правильных ответов y (в том же порядке, в котором рецепты идут в переменной recipes). Создайте объект RandomForestClassifier со 100 деревьями, с помощью функции cross_val_score вычислите среднюю accuracy по трем фолдам (перемешивать данные не нужно) и передайте в функцию save_answers5."
   ]
  },
  {
   "cell_type": "code",
   "execution_count": 38,
   "metadata": {},
   "outputs": [],
   "source": [
    "from sklearn.ensemble import RandomForestClassifier\n",
    "from sklearn.model_selection import cross_val_score"
   ]
  },
  {
   "cell_type": "code",
   "execution_count": 39,
   "metadata": {},
   "outputs": [],
   "source": [
    "x_data = np.zeros((len(new_corpus), lda2.num_topics))"
   ]
  },
  {
   "cell_type": "code",
   "execution_count": 40,
   "metadata": {},
   "outputs": [],
   "source": [
    "for doc_idx, doc in enumerate(new_corpus):\n",
    "    for topic_idx, prob in lda2.get_document_topics(doc):\n",
    "        x_data[doc_idx, topic_idx] = prob"
   ]
  },
  {
   "cell_type": "code",
   "execution_count": 41,
   "metadata": {},
   "outputs": [],
   "source": [
    "y = [recipe['cuisine'] for recipe in recipes]"
   ]
  },
  {
   "cell_type": "code",
   "execution_count": 42,
   "metadata": {},
   "outputs": [],
   "source": [
    "rfa_model = RandomForestClassifier(n_estimators=100)\n",
    "cv_score = cross_val_score(rfa_model, X=x_data, y=y, scoring='accuracy', cv=3)"
   ]
  },
  {
   "cell_type": "code",
   "execution_count": 43,
   "metadata": {},
   "outputs": [],
   "source": [
    "def save_answers5(accuracy):\n",
    "     with open(\"cooking_LDA_pa_task5.txt\", \"w\") as fout:\n",
    "        fout.write(str(accuracy))"
   ]
  },
  {
   "cell_type": "code",
   "execution_count": 44,
   "metadata": {},
   "outputs": [],
   "source": [
    "save_answers5(cv_score.mean())"
   ]
  },
  {
   "cell_type": "markdown",
   "metadata": {},
   "source": [
    "Для такого большого количества классов это неплохая точность. Вы можете попроовать обучать RandomForest на исходной матрице частот слов, имеющей значительно большую размерность, и увидеть, что accuracy увеличивается на 10–15%. Таким образом, LDA собрал не всю, но достаточно большую часть информации из выборки, в матрице низкого ранга."
   ]
  },
  {
   "cell_type": "markdown",
   "metadata": {},
   "source": [
    "### LDA — вероятностная модель\n",
    "Матричное разложение, использующееся в LDA, интерпретируется как следующий процесс генерации документов.\n",
    "\n",
    "Для документа $d$ длины $n_d$:\n",
    "1. Из априорного распределения Дирихле с параметром alpha сгенерировать распределение над множеством тем: $\\theta_d \\sim Dirichlet(\\alpha)$\n",
    "1. Для каждого слова $w = 1, \\dots, n_d$:\n",
    "    1. Сгенерировать тему из дискретного распределения $t \\sim \\theta_{d}$\n",
    "    1. Сгенерировать слово из дискретного распределения $w \\sim \\phi_{t}$.\n",
    "    \n",
    "Подробнее об этом в [Википедии](https://en.wikipedia.org/wiki/Latent_Dirichlet_allocation).\n",
    "\n",
    "В контексте нашей задачи получается, что, используя данный генеративный процесс, можно создавать новые рецепты. Вы можете передать в функцию модель и число ингредиентов и сгенерировать рецепт :)"
   ]
  },
  {
   "cell_type": "code",
   "execution_count": 45,
   "metadata": {},
   "outputs": [],
   "source": [
    "def generate_recipe(model, num_ingredients):\n",
    "    theta = np.random.dirichlet(model.alpha)\n",
    "    for i in range(num_ingredients):\n",
    "        t = np.random.choice(np.arange(model.num_topics), p=theta)\n",
    "        topic = model.show_topic(t, topn=model.num_terms)\n",
    "        topic_distr = [x[1] for x in topic]\n",
    "        terms = [x[0] for x in topic]\n",
    "        w = np.random.choice(terms, p=topic_distr)\n",
    "        print(w)"
   ]
  },
  {
   "cell_type": "markdown",
   "metadata": {},
   "source": [
    "### Интерпретация построенной модели\n",
    "Вы можете рассмотреть топы ингредиентов каждой темы. Большиснтво тем сами по себе похожи на рецепты; в некоторых собираются продукты одного вида, например, свежие фрукты или разные виды сыра.\n",
    "\n",
    "Попробуем эмпирически соотнести наши темы с национальными кухнями (cuisine). Построим матрицу $A$ размера темы $x$ кухни, ее элементы $a_{tc}$ — суммы $p(t|d)$ по всем документам $d$, которые отнесены к кухне $c$. Нормируем матрицу на частоты рецептов по разным кухням, чтобы избежать дисбаланса между кухнями. Следующая функция получает на вход объект модели, объект корпуса и исходные данные и возвращает нормированную матрицу $A$. Ее удобно визуализировать с помощью seaborn."
   ]
  },
  {
   "cell_type": "code",
   "execution_count": 46,
   "metadata": {},
   "outputs": [],
   "source": [
    "import pandas\n",
    "import seaborn\n",
    "from matplotlib import pyplot as plt\n",
    "%matplotlib inline"
   ]
  },
  {
   "cell_type": "code",
   "execution_count": 47,
   "metadata": {},
   "outputs": [],
   "source": [
    "def compute_topic_cuisine_matrix(model, corpus, recipes):\n",
    "    # составляем вектор целевых признаков\n",
    "    targets = list(set([recipe[\"cuisine\"] for recipe in recipes]))\n",
    "    # составляем матрицу\n",
    "    tc_matrix = pandas.DataFrame(data=np.zeros((model.num_topics, len(targets))), columns=targets)\n",
    "    for recipe, bow in zip(recipes, corpus):\n",
    "        recipe_topic = model.get_document_topics(bow)\n",
    "        for t, prob in recipe_topic:\n",
    "            tc_matrix[recipe[\"cuisine\"]][t] += prob\n",
    "    # нормируем матрицу\n",
    "    target_sums = pandas.DataFrame(data=np.zeros((1, len(targets))), columns=targets)\n",
    "    for recipe in recipes:\n",
    "        target_sums[recipe[\"cuisine\"]] += 1\n",
    "    return pandas.DataFrame(tc_matrix.values/target_sums.values, columns=tc_matrix.columns)"
   ]
  },
  {
   "cell_type": "code",
   "execution_count": 48,
   "metadata": {},
   "outputs": [],
   "source": [
    "def plot_matrix(tc_matrix):\n",
    "    plt.figure(figsize=(10, 10))\n",
    "    seaborn.heatmap(tc_matrix, square=True)"
   ]
  },
  {
   "cell_type": "code",
   "execution_count": 49,
   "metadata": {},
   "outputs": [
    {
     "data": {
      "image/png": "[encoded data removed]",
      "text/plain": [
       "<Figure size 720x720 with 2 Axes>"
      ]
     },
     "metadata": {
      "needs_background": "light"
     },
     "output_type": "display_data"
    }
   ],
   "source": [
    "# Визуализируйте матрицу\n",
    "plot_matrix(compute_topic_cuisine_matrix(lda2, new_corpus, recipes))"
   ]
  },
  {
   "cell_type": "markdown",
   "metadata": {},
   "source": [
    "Чем темнее квадрат в матрице, тем больше связь этой темы с данной кухней. Мы видим, что у нас есть темы, которые связаны с несколькими кухнями. Такие темы показывают набор ингредиентов, которые популярны в кухнях нескольких народов, то есть указывают на схожесть кухонь этих народов. Некоторые темы распределены по всем кухням равномерно, они показывают наборы продуктов, которые часто используются в кулинарии всех стран. "
   ]
  },
  {
   "cell_type": "markdown",
   "metadata": {},
   "source": [
    "Жаль, что в датасете нет названий рецептов, иначе темы было бы проще интерпретировать..."
   ]
  },
  {
   "cell_type": "markdown",
   "metadata": {},
   "source": [
    "### Заключение\n",
    "В этом задании вы построили несколько моделей LDA, посмотрели, на что влияют гиперпараметры модели и как можно использовать построенную модель. "
   ]
  }
 ],
 "metadata": {
  "kernelspec": {
   "display_name": "Python 3",
   "language": "python",
   "name": "python3"
  },
  "language_info": {
   "codemirror_mode": {
    "name": "ipython",
    "version": 3
   },
   "file_extension": ".py",
   "mimetype": "text/x-python",
   "name": "python",
   "nbconvert_exporter": "python",
   "pygments_lexer": "ipython3",
   "version": "3.7.4"
  }
 },
 "nbformat": 4,
 "nbformat_minor": 1
}
